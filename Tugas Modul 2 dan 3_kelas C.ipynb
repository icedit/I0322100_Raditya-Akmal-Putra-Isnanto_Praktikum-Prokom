{
 "cells": [
  {
   "cell_type": "code",
   "execution_count": 8,
   "metadata": {},
   "outputs": [
    {
     "name": "stdout",
     "output_type": "stream",
     "text": [
      "Raditya Akmal\n",
      "I0322100\n",
      "KELAS C\n"
     ]
    }
   ],
   "source": [
    "print(input(\"Nama: \"))\n",
    "print(input(\"NIM: \"))\n",
    "print(input(\"Kelas: \"))"
   ]
  },
  {
   "attachments": {},
   "cell_type": "markdown",
   "metadata": {},
   "source": [
    "## 1."
   ]
  },
  {
   "attachments": {},
   "cell_type": "markdown",
   "metadata": {},
   "source": [
    "buatlah program sederhana untuk:\n",
    "* **A** mencari massa jika diketahui nilai energi potensial, percepatan gravitasi, dan ketinggian benda! beserta rumus nya!\n",
    "* **B** mencari gaya apung jika diketahui massa jenis, tinggi, panjang, dan lebar benda serta percepatan gravitasi dan contohnya! beserta rumus nya!\n",
    "* **C** Tulis program Python untuk menghitung luas dari segi lima sama sisi!\n",
    "\n",
    "> *note* : rumus, contoh, dan nilai dari tiap variabel ditentukan oleh kalian sendiri dan gunakan satuan baku (SI) untuk menghitung nilai dari tiap variabel"
   ]
  },
  {
   "cell_type": "code",
   "execution_count": 2,
   "metadata": {},
   "outputs": [
    {
     "name": "stdout",
     "output_type": "stream",
     "text": [
      "Nilai Energi Potensial = 55.0 Joule\n",
      "Nilai Gravitasi= 5.0 m/s^2\n",
      "Nilai Ketinggian Benda= 5.0 m\n",
      "Maka Massa Benda yang didapat = 2.2 kg\n"
     ]
    }
   ],
   "source": [
    "#A MENCARI MASSA DARI NILAI ENERGI POTENSIAL\n",
    "EnergiPotensial=float(input(\"Masukkan Energi Potensial=\\t\"))\n",
    "Gravitasi=float(input(\"Masukkan Gravitasi=\\t\"))\n",
    "KetinggianBenda=float(input(\"Masukkan Ketinggian Benda\\t\"))\n",
    "MassaBenda=(EnergiPotensial/(Gravitasi*KetinggianBenda))\n",
    "\n",
    "print(f\"Nilai Energi Potensial =\",EnergiPotensial,\"Joule\")\n",
    "print(f\"Nilai Gravitasi=\",Gravitasi,\"m/s^2\")\n",
    "print(f\"Nilai Ketinggian Benda=\",KetinggianBenda,\"m\")\n",
    "\n",
    "print(f\"Maka Massa Benda yang didapat =\",MassaBenda,\"kg\")"
   ]
  },
  {
   "cell_type": "code",
   "execution_count": 3,
   "metadata": {},
   "outputs": [
    {
     "name": "stdout",
     "output_type": "stream",
     "text": [
      "Nilai Massa Jenis Zat Cair adalah 6.0 kg/m^3\n",
      "Nilai Percepatan Gravitasi adalah 6.0 m/s^2\n",
      "Tinggi Benda adalah 66.0 m\n",
      "Panjang Benda adalah 7.0 m\n",
      "Lebar Benda adalah 7.0 m\n",
      "Nilai Volume Benda adalah 3234.0 m^3\n",
      "Maka Nilai Gaya Apung adalah 116424.0 N\n"
     ]
    }
   ],
   "source": [
    "#B MENCARI GAYA APUNG DARI MASSA JENIS DKK\n",
    "MassaJenisZatCair=float(input(\"Masukkan Massa Jenis Zat Cair=\\t\"))\n",
    "PercepatanGravitasi=float(input(\"Masukkan Percepatan Gravitasi=\\t\"))\n",
    "TinggiBenda=float(input(\"Masukkan Tinggi Benda=\\t\"))\n",
    "PanjangBenda=float(input(\"Masukkan Panjang Benda=\\t\"))\n",
    "LebarBenda=float(input(\"Masukkan Lebar\\t\"))\n",
    "VolumeBenda=(PanjangBenda*LebarBenda*TinggiBenda)\n",
    "GayaApung=(MassaJenisZatCair*VolumeBenda*PercepatanGravitasi)\n",
    "\n",
    "print(f\"Nilai Massa Jenis Zat Cair adalah\",MassaJenisZatCair,\"kg/m^3\")\n",
    "print(f\"Nilai Percepatan Gravitasi adalah\",PercepatanGravitasi,\"m/s^2\")\n",
    "\n",
    "print(f\"Tinggi Benda adalah\",TinggiBenda,\"m\")\n",
    "print(f\"Panjang Benda adalah\",PanjangBenda,\"m\")\n",
    "print(f\"Lebar Benda adalah\",LebarBenda,\"m\")\n",
    "\n",
    "print(f\"Nilai Volume Benda adalah\",VolumeBenda,\"m^3\")\n",
    "print(f\"Maka Nilai Gaya Apung adalah\",GayaApung,\"N\")"
   ]
  },
  {
   "cell_type": "code",
   "execution_count": 5,
   "metadata": {},
   "outputs": [
    {
     "name": "stdout",
     "output_type": "stream",
     "text": [
      "Sisi dari Segilima sama sisi adalah 6.0 m\n",
      "Luas dari Segilima sama sisi adalah 61.937188808638176 m^2\n"
     ]
    }
   ],
   "source": [
    "#C MENGHITUNG LUAS SEGILIMA SAMA SISI\n",
    "SisiSegilima=float(input(\"Masukkan Sisi Segilima =\\t\"))\n",
    "LuasSegilimaSamasisi=((5*SisiSegilima**2)/2.90617)\n",
    "\n",
    "print(f\"Sisi dari Segilima sama sisi adalah\",SisiSegilima,\"m\")\n",
    "print(f\"Luas dari Segilima sama sisi adalah\",LuasSegilimaSamasisi,\"m^2\")"
   ]
  },
  {
   "attachments": {},
   "cell_type": "markdown",
   "metadata": {},
   "source": [
    "## 2."
   ]
  },
  {
   "attachments": {},
   "cell_type": "markdown",
   "metadata": {},
   "source": [
    "Taman bermain ANCOL memiliki berbagai wahana, salah satunya adalah bianglala. Harga tiket yang dijual berbeda tergantung dengan kategori nya. Harga tiket bagi orang dewasa atau yang berumur lebih dari 17 tahun adalah Rp 110.000 , harga tiket untuk anak-anak usia 6-16 tahun adalah Rp. 75.000 , sedangkan untuk usia dibawahnya tidak dikenakan biaya. Pada wahana bianglala sedang ada \"Promo RAMADHAN\" sebesar 20% bagi pembelian tiket lebih dari 2 pcs.\n",
    "\n",
    "Keluarga Anya Forger ingin menaiki wahana bianglala tersebut, Anya (usia 18 tahun) pergi bersama ayah dan ibunya beserta dua adiknya, Harry (usia 8 tahun) dan Taylor (usia 4 tahun). \n",
    "\n",
    "> Buatlah program sederhana untuk menghitung harga total dari pembelian tiket  oleh keluarga Anya dan harga tiket setelah mendapatkan diskon"
   ]
  },
  {
   "cell_type": "code",
   "execution_count": 6,
   "metadata": {},
   "outputs": [
    {
     "name": "stdout",
     "output_type": "stream",
     "text": [
      "Keluarga Anya yang naik wahana adalah  4\n",
      "Harga Total dari pembelian tiket sebelum diskon adalah RP. 405000\n",
      "Dalam menyambut bulan suci Ramadhan wahana memberikan diskon menjadi RP. 324000.0\n"
     ]
    }
   ],
   "source": [
    "#MENGHITUNG HARGA TOTAL DARI KELUARGA ANYA KE ANCOL\n",
    "KeluargaAnyaYangIkut=input(\"Siapa Keluarga Anya yang naik wahana diatas 17 Tahun\")\n",
    "\n",
    "Harga_Tiket_17Tahun_Keatas=110000\n",
    "Harga_Tiket_6Sampai_16Tahun=75000\n",
    "Harga_Tiket_DibawahUmur=0\n",
    "Jumlah_Keluarga_Anya_17Tahun_Keatas=3\n",
    "Jumlah_Keluarga_Anya_6Sampai_16Tahun=1\n",
    "Jumlah_Keluarga_Anya_DibawahUmur=1\n",
    "\n",
    "Total_Harga_Sebelum_Diskon=(Jumlah_Keluarga_Anya_17Tahun_Keatas*Harga_Tiket_17Tahun_Keatas)+(Jumlah_Keluarga_Anya_6Sampai_16Tahun*Harga_Tiket_6Sampai_16Tahun)+(Jumlah_Keluarga_Anya_DibawahUmur*Harga_Tiket_DibawahUmur)\n",
    "#Dikarenakan Bulan Ramadhan ada potongan diskon sebesar 20% per 2 pcs tiket\n",
    "Total_Harga_Diskon=(2*Harga_Tiket_17Tahun_Keatas*4/5)+((Harga_Tiket_17Tahun_Keatas+Harga_Tiket_6Sampai_16Tahun)*4/5)\n",
    "\n",
    "print(f\"Keluarga Anya yang naik wahana adalah \",KeluargaAnyaYangIkut)\n",
    "\n",
    "print(f\"Harga Total dari pembelian tiket sebelum diskon adalah RP.\",Total_Harga_Sebelum_Diskon)\n",
    "\n",
    "print(f\"Dalam menyambut bulan suci Ramadhan wahana memberikan diskon menjadi RP.\",Total_Harga_Diskon)"
   ]
  },
  {
   "attachments": {},
   "cell_type": "markdown",
   "metadata": {},
   "source": [
    "## 3. "
   ]
  },
  {
   "attachments": {},
   "cell_type": "markdown",
   "metadata": {},
   "source": [
    "diberikan list aslab sebagai berikut:\n",
    "```python\n",
    "list_aslab = [\n",
    "    {\"nama\": \"Berlian Safri Prakoso\", \"nim\": \"I0320017\", \"kontak\": \"0858XXXXXXXX\"},\n",
    "    {\"nama\": \"Halidya Siti Hanifah\", \"nim\": \"I0320044\", \"kontak\": \"0878XXXXXXXX\"},\n",
    "    {\"nama\": \"Nurki Putra Mahardika\", \"nim\": \"I0320076\", \"kontak\": \"0877XXXXXXXX\"},\n",
    "    {\"nama\": \"Aji Manarul Aziz\", \"nim\": \"I0320119\", \"kontak\": \"0812XXXXXXXX\"},\n",
    "    {\"nama\": \"Alica Ayu Fitriani\", \"nim\": \"I0320121\", \"kontak\": \"0896XXXXXXXX\"},\n",
    "    {\"nama\": \"Dendy Halim Kusuma\", \"nim\": \"I0320125\", \"kontak\": \"0822XXXXXXXX\"}\n",
    "]\n",
    "```\n",
    "* **A** Tuliskan kode untuk mengakses informasi tentang \"nama\" dari semua aslab mulai dari index 1 sampai 5\n",
    "* **B** Tambahkan informasi berikut pada data aslab dan tampilkan hasilnya:\n",
    "```python\n",
    "    surel = [\"berlian@student.uns.ac.id\",\n",
    "          \"halidya@student.uns.ac.id\",\n",
    "          \"nurki@student.uns.ac.id\",\n",
    "          \"manarul@student.uns.ac.id\",\n",
    "          \"alica@student.uns.ac.id\",\n",
    "          \"dendy@student.uns.ac.id\"]\n",
    "```\n",
    "* **C** Hapus nilai pada kunci \"kontak\" pada list aslab dan tampilkan hasilnya\n",
    "> *note: kalian hanya boleh menggunakan key-value pair yang disebutkan di dalam teks, tanpa menggunakan informasi tambahan yang diambil pada list yang ada*"
   ]
  },
  {
   "cell_type": "code",
   "execution_count": 7,
   "metadata": {},
   "outputs": [
    {
     "name": "stdout",
     "output_type": "stream",
     "text": [
      "Halidya Siti Hanifah\n",
      "Nurki Putra Mahardika\n",
      "Aji Manarul Aziz\n",
      "Alica Ayu Fitriani\n",
      "Dendy Halim Kusuma\n",
      "--------------------------------\n",
      "{'nama': 'Berlian Safri Prakoso', 'nim': 'I0320017', 'kontak': '0858XXXXXXXX', 'surel': 'berlian@student.uns.ac.id'}\n",
      "{'nama': 'Halidya Siti Hanifah', 'nim': 'I0320044', 'kontak': '0878XXXXXXXX', 'surel': 'halidya@student.uns.ac.id'}\n",
      "{'nama': 'Nurki Putra Mahardika', 'nim': 'I0320076', 'kontak': '0877XXXXXXXX', 'surel': 'nurki@student.uns.ac.id'}\n",
      "{'nama': 'Aji Manarul Aziz', 'nim': 'I0320119', 'kontak': '0812XXXXXXXX', 'surel': 'manarul@student.uns.ac.id'}\n",
      "{'nama': 'Alica Ayu Fitriani', 'nim': 'I0320121', 'kontak': '0896XXXXXXXX', 'surel': 'alica@student.uns.ac.id'}\n",
      "{'nama': 'Dendy Halim Kusuma', 'nim': 'I0320125', 'kontak': '0822XXXXXXXX', 'surel': 'dendy@student.uns.ac.id'}\n",
      "--------------------------------\n",
      "{'nama': 'Berlian Safri Prakoso', 'nim': 'I0320017', 'surel': 'berlian@student.uns.ac.id'}\n",
      "{'nama': 'Halidya Siti Hanifah', 'nim': 'I0320044', 'surel': 'halidya@student.uns.ac.id'}\n",
      "{'nama': 'Nurki Putra Mahardika', 'nim': 'I0320076', 'surel': 'nurki@student.uns.ac.id'}\n",
      "{'nama': 'Aji Manarul Aziz', 'nim': 'I0320119', 'surel': 'manarul@student.uns.ac.id'}\n",
      "{'nama': 'Alica Ayu Fitriani', 'nim': 'I0320121', 'surel': 'alica@student.uns.ac.id'}\n",
      "{'nama': 'Dendy Halim Kusuma', 'nim': 'I0320125', 'surel': 'dendy@student.uns.ac.id'}\n"
     ]
    }
   ],
   "source": [
    "#A MENGKASES IFORMASI TERSEBUT\n",
    "list_aslab = [\n",
    "    {\"nama\": \"Berlian Safri Prakoso\", \"nim\": \"I0320017\", \"kontak\": \"0858XXXXXXXX\"},\n",
    "    {\"nama\": \"Halidya Siti Hanifah\", \"nim\": \"I0320044\", \"kontak\": \"0878XXXXXXXX\"},\n",
    "    {\"nama\": \"Nurki Putra Mahardika\", \"nim\": \"I0320076\", \"kontak\": \"0877XXXXXXXX\"},\n",
    "    {\"nama\": \"Aji Manarul Aziz\", \"nim\": \"I0320119\", \"kontak\": \"0812XXXXXXXX\"},\n",
    "    {\"nama\": \"Alica Ayu Fitriani\", \"nim\": \"I0320121\", \"kontak\": \"0896XXXXXXXX\"},\n",
    "    {\"nama\": \"Dendy Halim Kusuma\", \"nim\": \"I0320125\", \"kontak\": \"0822XXXXXXXX\"}\n",
    "]\n",
    "\n",
    "for i in range(1,6):\n",
    "    print(list_aslab[i][\"nama\"])\n",
    "print(\"--------------------------------\")\n",
    "#B MENAMBAHKAN SUREL PADA DATA TERSEBUT\n",
    "surel = [\"berlian@student.uns.ac.id\",\n",
    "          \"halidya@student.uns.ac.id\",\n",
    "          \"nurki@student.uns.ac.id\",\n",
    "          \"manarul@student.uns.ac.id\",\n",
    "          \"alica@student.uns.ac.id\",\n",
    "          \"dendy@student.uns.ac.id\"]\n",
    "\n",
    "for i in range(len(list_aslab)):\n",
    "    list_aslab[i][\"surel\"] = surel[i]\n",
    "\n",
    "for aslab in list_aslab:\n",
    "    print(aslab)\n",
    "print(\"--------------------------------\")\n",
    "\n",
    "#C MENGHAPUS KONTAK PADA DATA NYA\n",
    "\n",
    "for aslab in list_aslab:\n",
    "    del aslab[\"kontak\"]\n",
    "    print(aslab)"
   ]
  }
 ],
 "metadata": {
  "kernelspec": {
   "display_name": "Python 3",
   "language": "python",
   "name": "python3"
  },
  "language_info": {
   "codemirror_mode": {
    "name": "ipython",
    "version": 3
   },
   "file_extension": ".py",
   "mimetype": "text/x-python",
   "name": "python",
   "nbconvert_exporter": "python",
   "pygments_lexer": "ipython3",
   "version": "3.10.10"
  },
  "orig_nbformat": 4,
  "vscode": {
   "interpreter": {
    "hash": "5addf786bcd861d1ce5006f23111f8cbb206731e5b61b0a5632ba9e0252558a8"
   }
  }
 },
 "nbformat": 4,
 "nbformat_minor": 2
}
